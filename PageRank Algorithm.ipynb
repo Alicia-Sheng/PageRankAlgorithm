{
 "cells": [
  {
   "cell_type": "code",
   "execution_count": 14,
   "metadata": {},
   "outputs": [],
   "source": [
    "import numpy as np\n",
    "import pandas as pd\n",
    "import numpy.linalg as LA\n",
    "import operator"
   ]
  },
  {
   "cell_type": "code",
   "execution_count": 15,
   "metadata": {},
   "outputs": [],
   "source": [
    "def pagerank_vector(graph, initial_state, k, alpha):\n",
    "    \"\"\" compute the PageRank importance vector of the input graph with an initial_state vector, k times of iteration, and damping parameter alpha \"\"\"\n",
    "    n = len(initial_state)\n",
    "    all_ones = np.ones((n, n))\n",
    "    google_matrix = alpha * graph + (1 - alpha) * ((1 / n) * all_ones)\n",
    "    pagerank = initial_state\n",
    "    for i in range(k):\n",
    "        pagerank = google_matrix @ pagerank\n",
    "    #pagerank = eigenvector_scaled(google_matrix)\n",
    "    #pagerank can also be computed by computing the scaled eigenvector\n",
    "    return pagerank"
   ]
  },
  {
   "cell_type": "code",
   "execution_count": 16,
   "metadata": {},
   "outputs": [],
   "source": [
    "def to_dict(PATH):\n",
    "    \"\"\" compute data in file to a linked dictionary and also returns all values in the dictionary \"\"\"\n",
    "    dictionary = dict()\n",
    "    all_values = set()\n",
    "    with open(PATH, encoding = \"utf-8\") as file:\n",
    "        headline = file.readline() # delete it if there is no need to pull out the first line\n",
    "        for line in file:\n",
    "            x, y  = line.strip().split(\",\")\n",
    "            x_links = dictionary.setdefault(x, set())\n",
    "            y_links = dictionary.setdefault(y, set())\n",
    "            x_links.add(y)\n",
    "            all_values.add(x)\n",
    "            all_values.add(y)\n",
    "    all_values = list(all_values)\n",
    "    all_values.sort()\n",
    "    return dictionary, all_values"
   ]
  },
  {
   "cell_type": "code",
   "execution_count": 17,
   "metadata": {},
   "outputs": [],
   "source": [
    "def to_hyperlink_matrix(dictionary, all_values):\n",
    "    \"\"\" compute the input dictionary to a hyperlink matrix H and matrix A \"\"\"\n",
    "    length = len(all_values)\n",
    "    H = np.zeros((length, length))\n",
    "    A = np.zeros((length, length))\n",
    "    for key, value in dictionary.items():\n",
    "        if len(value) > 0:\n",
    "            n = 1/len(value)\n",
    "            index1 = all_values.index(key)\n",
    "            for each in value:\n",
    "                index2 = all_values.index(each)\n",
    "                H[index2, index1] = n\n",
    "        elif len(value) == 0:\n",
    "            index = all_values.index(key)\n",
    "            A[:,index] = 1/length\n",
    "    return H, A\n",
    "\n",
    "#test\n",
    "#a = {'A': {'B', 'C', 'D'}, 'B': {}, 'C': {'D'}, 'D': {'A', 'B'}}\n",
    "#c = ['A','B','C','D']\n",
    "#b, d= to_hyperlink_matrix(a,c)\n",
    "#b, d"
   ]
  },
  {
   "cell_type": "code",
   "execution_count": 18,
   "metadata": {},
   "outputs": [],
   "source": [
    "def eigenvector_scaled(matrix):\n",
    "    \"\"\" compute the eigenvector of the given matrix with all entries sum to 1 \"\"\"\n",
    "    eigval, eigvec = LA.eig(matrix)\n",
    "    for i in range(len(eigval)):\n",
    "        if np.isclose(eigval[i], 1):\n",
    "            sum = 0\n",
    "            for j in eigvec[:,i]:\n",
    "                sum += j\n",
    "            eigvec_scaled = 1/sum * eigvec[:,i]\n",
    "    return eigvec_scaled\n",
    "\n",
    "#test\n",
    "#a = np.array([[0,1/2],[1,1/2]])\n",
    "#I = eigen_vector_scaled(a)\n",
    "#I.sum()"
   ]
  },
  {
   "cell_type": "code",
   "execution_count": 19,
   "metadata": {},
   "outputs": [],
   "source": [
    "#compute the csv file to a dictionary \n",
    "#PATH = \"C:/Brandeis/internet.csv\"\n",
    "PATH = \"internet.csv\"\n",
    "internet, all_links = to_dict(PATH)\n",
    "H, A = to_hyperlink_matrix(internet, all_links)\n",
    "S = H + A\n",
    "n = len(all_links)\n",
    "I_initial = np.zeros((n, 1))\n",
    "I_initial[:] = 1 / n\n",
    "k = 100 #can be changed\n",
    "alpha = 0.85 #can be changed\n",
    "\n",
    "I = pagerank_vector(S, I_initial, k, alpha)"
   ]
  },
  {
   "cell_type": "code",
   "execution_count": 20,
   "metadata": {},
   "outputs": [
    {
     "data": {
      "text/plain": [
       "<matplotlib.axes._subplots.AxesSubplot at 0x20da6496448>"
      ]
     },
     "execution_count": 20,
     "metadata": {},
     "output_type": "execute_result"
    },
    {
     "data": {
      "image/png": "[encoded data removed]",
      "text/plain": [
       "<Figure size 432x288 with 1 Axes>"
      ]
     },
     "metadata": {
      "needs_background": "light"
     },
     "output_type": "display_data"
    }
   ],
   "source": [
    "rank = dict()\n",
    "for i in range(n):\n",
    "    rank[all_links[i]] = I[i,0]\n",
    "sorted_rank = dict(sorted(rank.items(), key=operator.itemgetter(1),reverse=True))\n",
    "website = list(sorted_rank.keys())\n",
    "related_rank = list(sorted_rank.values())\n",
    "df = pd.DataFrame(list(zip(website, related_rank)), columns =['Website', 'PageRank'])\n",
    "df.plot.line(y = 'PageRank')"
   ]
  },
  {
   "cell_type": "code",
   "execution_count": 22,
   "metadata": {},
   "outputs": [
    {
     "name": "stdout",
     "output_type": "stream",
     "text": [
      "0.0004003416562689923\n",
      "pace.edu\n"
     ]
    }
   ],
   "source": [
    "target_source = df[df['PageRank'] <= 0.0005]\n",
    "target_website = target_source['Website'].values.tolist()\n",
    "brandeis_final = dict()\n",
    "length1 = len(target_website)\n",
    "brandeis = 'brandeis.edu'\n",
    "brandeis_index = all_links.index(brandeis)\n",
    "pagerank_before = I[brandeis_index, 0]\n",
    "index = 0\n",
    "max_difference = 0\n",
    "for i in range(length1):\n",
    "    new_internet, all_links = to_dict(PATH)\n",
    "    new_internet[target_website[i]].add(brandeis) #a set cannot add duplicate values\n",
    "    H1, A1 = to_hyperlink_matrix(new_internet, all_links)\n",
    "    S1 = H1 + A1\n",
    "    I1 = pagerank_vector(S1, I_initial, k, alpha)\n",
    "    pagerank_after = I1[brandeis_index, 0]\n",
    "    brandeis_final[target_website[i]] = pagerank_after\n",
    "    difference = pagerank_after - pagerank_before\n",
    "    if difference > max_difference:\n",
    "        max_difference = difference\n",
    "        index = i\n",
    "\n",
    "print(max_difference)\n",
    "print(target_website[index])"
   ]
  },
  {
   "cell_type": "code",
   "execution_count": null,
   "metadata": {},
   "outputs": [],
   "source": []
  }
 ],
 "metadata": {
  "kernelspec": {
   "display_name": "Python 3",
   "language": "python",
   "name": "python3"
  },
  "language_info": {
   "codemirror_mode": {
    "name": "ipython",
    "version": 3
   },
   "file_extension": ".py",
   "mimetype": "text/x-python",
   "name": "python",
   "nbconvert_exporter": "python",
   "pygments_lexer": "ipython3",
   "version": "3.7.4"
  }
 },
 "nbformat": 4,
 "nbformat_minor": 4
}
